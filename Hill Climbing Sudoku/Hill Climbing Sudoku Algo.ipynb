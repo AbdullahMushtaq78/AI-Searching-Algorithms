{
 "cells": [
  {
   "cell_type": "code",
   "execution_count": 1,
   "metadata": {},
   "outputs": [],
   "source": [
    "from copy import deepcopy\n",
    "import numpy as np\n",
    "class Node:\n",
    "    def __init__(self, _state, _parent, _hval):\n",
    "        self.parent = _parent\n",
    "        self.state = _state\n",
    "        self.hval = _hval\n",
    "dim = 4\n",
    "sudoku = np.array([\n",
    "                [1,2,3,4],\n",
    "                [1,2,3,4],\n",
    "                [1,2,3,4],\n",
    "                [1,2,3,4]])"
   ]
  },
  {
   "cell_type": "code",
   "execution_count": 4,
   "metadata": {},
   "outputs": [],
   "source": [
    "def hfunction(state, dim):\n",
    "    h = 0\n",
    "    for i in range(dim):\n",
    "        h+= dim-np.unique(state[i,:]).size\n",
    "        h+= dim-np.unique(state[:,i]).size\n",
    "    for i in range(0,dim,2):\n",
    "        for j in range(0,dim,2):\n",
    "            h += dim - np.unique(state[i:i+2,j:j+2]).size\n",
    "    return h\n",
    "def GenerateNextStates(A):\n",
    "    AllPerms = []\n",
    "    for i in range(dim):\n",
    "        for j in range(dim):\n",
    "            for c in range(j+1,dim):\n",
    "                tempS = deepcopy(A)\n",
    "                v = tempS[i][j]\n",
    "                tempS[i][j] = tempS[i][c]\n",
    "                tempS[i][c] = v \n",
    "                AllPerms.append(tempS)\n",
    "    return AllPerms\n",
    "def HillClimb(sudoku):\n",
    "    h = hfunction(sudoku,dim)\n",
    "    start = Node(sudoku, [], h)\n",
    "    isVisited = []\n",
    "    isVisited.append(start.state)\n",
    "    curr = start\n",
    "    while True:\n",
    "        if curr.hval == 0:\n",
    "            return curr.state\n",
    "        AllNextStates = GenerateNextStates(curr.state);\n",
    "        print(curr.state, curr.hval,\" \\n\")\n",
    "        for i in range(len(AllNextStates)):\n",
    "            tempH = hfunction(AllNextStates[i], dim)\n",
    "            if tempH < curr.hval:\n",
    "                curr = Node(AllNextStates[i],curr.state,tempH)"
   ]
  },
  {
   "cell_type": "code",
   "execution_count": null,
   "metadata": {},
   "outputs": [],
   "source": [
    "print(sudoku, \"\\n\")\n",
    "ch = int(input(\"Do you want to enter new Sudoku Board (1) or to continue with the one displayed above(0)?\"))\n",
    "if ch == 1:\n",
    "    for i in range(dim):\n",
    "        for j in range(dim):\n",
    "            sudoku[i][j] = int(input(\"Enter the value: \"))\n",
    "\n",
    "print(HillClimb(sudoku))"
   ]
  }
 ],
 "metadata": {
  "kernelspec": {
   "display_name": "Python 3.9.7 ('base')",
   "language": "python",
   "name": "python3"
  },
  "language_info": {
   "codemirror_mode": {
    "name": "ipython",
    "version": 3
   },
   "file_extension": ".py",
   "mimetype": "text/x-python",
   "name": "python",
   "nbconvert_exporter": "python",
   "pygments_lexer": "ipython3",
   "version": "3.9.7"
  },
  "orig_nbformat": 4,
  "vscode": {
   "interpreter": {
    "hash": "9c1d5a056f04d97314a9f946bc8c5185004572d3d68312220c0ba298420421f7"
   }
  }
 },
 "nbformat": 4,
 "nbformat_minor": 2
}
